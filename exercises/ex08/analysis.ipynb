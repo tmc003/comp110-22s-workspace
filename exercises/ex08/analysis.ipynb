{
 "cells": [
  {
   "cell_type": "markdown",
   "metadata": {},
   "source": [
    "# Analysis for Continuous Improvement\n",
    "\n",
    "Author Name: Ty Clayton\n",
    "\n",
    "9-digit PID: 730316240\n",
    "\n",
    "Continuous Improvement embraces a belief there is _always room to make things better_. It is a mindset and process we value and practice in this course. In this assignment, you are able to practice continuous improvement and contribute to the design ideas of the course.\n",
    "\n",
    "## Brainstorming Ideas\n",
    "\n",
    "Reflect on your personal experiences and observations in COMP110 and **brainstorm modifications to the course that _create value_ beyond its current design**. When brainstorming, try not to be critical of the ideas you come up with regarding scale, stakeholders impacted, or for any other reasons. In the markdown cell below, brainstorm 3 to 5 ideas you think would create value for you.\n",
    "\n",
    "Each brainstormed idea should state a. the suggested change or addition, b. what the expected value created, and c. which specific stakeholders would benefit.  If helpful, expand on the following template \"The course should (state idea here) because it will (state value created here) for (insert stakeholders here).\"\n",
    "\n",
    "Example A: \"The course should use only examples from psychology experiments because it will be more relevant for students who are psychology majors.\"\n",
    "\n",
    "Example B: \"The course should not have post-lesson questions because they are not useful for most students in the class.\""
   ]
  },
  {
   "cell_type": "markdown",
   "metadata": {},
   "source": [
    "### Part 1. Creative Ideation\n",
    "\n",
    "1. The course should implement an online autocheck process for the practice quizzes. Maybe having the option to submit the code that is being written or gradescope options for the True/False questions. This will allow students enrolled to check their work much quicker and focus in certain areas of their study.\n",
    "\n",
    "2. The course should offer the option of in-person class on tuesdays similar to how thursdays because it will allow instructors to get a more accurate understanding of who is actively present in class and will allow a different method of learning for enrolled students. \n",
    "\n",
    "3. The course should offer a class convention where all of the TA's and other instructors are invited to meet the enrolled students. This hopefully would lead to enrolled students being more comfortable with asking for help from TA's. \n",
    "\n",
    "4. This course should not have non-continuos readings. It wold be more helpful to have an article to read every two weeks starting at the beggining of the semester. This way, enrolled students who are interested in the content can gain deeper understandings on the information their reading. Enrolled students who do more of the readings than required could also recieve some form of extra credit. \n",
    "\n",
    "5. This course should offer information on computer science programming teams. I saw a flyer about different competitions but, I think the course should create a team that can compete for both the class & the academic institution. This would make UNC look good and put the enrolled students in a viewing. "
   ]
  },
  {
   "cell_type": "markdown",
   "metadata": {},
   "source": [
    "## Connecting with Available Data\n",
    "\n",
    "The data you have available for this analysis is limited to the anonymized course survey you and your peers filled out a few weeks ago. The data is found in the `survey.csv` file in this exercise directory. Each row represents an individual survey response. Each column has a description which can be found on the project write-up here: <https://22s.comp110.com/exercises/ex08.html>\n",
    "\n",
    "Review the list of available data and identify which one of your ideas _does not_, or is _least likely to_, have relevant data to support the analysis of your idea to create value. In the box below, identify which of your ideas lacks data and suggest how we might be able to collect this data in the future. One aspect of _continuous improvement_ is trying to avoid \"tunnel vision\" where possible improvements are not considered because there is no data available to analyze it. Identifying new data sources can unlock improvements!"
   ]
  },
  {
   "cell_type": "markdown",
   "metadata": {},
   "source": [
    "### Part 2. Identifying Missing Data\n",
    "\n",
    "1. Idea without sufficient data to analyze:\n",
    "My 5th idea about the class having a team seems like there is the least amount of data for analysis.\n",
    "\n",
    "\"5. This course should offer information on computer science programming teams. I saw a flyer about different competitions but, I think the course should create a team that can compete for both the class & the academic institution. This would make UNC look good and put the enrolled students in a viewing.\"\n",
    "\n",
    "2. Suggestion for how to collect data to support this idea in the future: \n",
    "Maybe incorporate questions that relate to the extent of interest that studnets have in programming, ask if students know about computing comptetions or if they have participated in any and maybe ask if they would be intrest in representing UNC."
   ]
  },
  {
   "cell_type": "markdown",
   "metadata": {},
   "source": [
    "## Choosing an Idea to Analyze\n",
    "\n",
    "Consider those of your ideas which _do_ seem likely to have relevant data to analyze. If none of your ideas do, spend a few minutes and brainstorm another idea or two with the added connection of data available on hand and add those ideas to your brainstormed ideas list.\n",
    "\n",
    "Select the one idea which you believe is _most valuable_ to analyze relative to the others and has data to support the analysis of. In the markdown cell for Part 3 below, identify the idea you are exploring and articulate why you believe it is most valuable (e.g. widest impact, biggest opportunity for improvement, simplest change for significant improvement, and so on)."
   ]
  },
  {
   "cell_type": "markdown",
   "metadata": {},
   "source": [
    "### Part 3. Choosing Your Analysis\n",
    "\n",
    "1. Idea to analyze with available data:\n",
    "I believe my first idea relating to the having autochecking practice quizzes has the most data to support analysis. \n",
    "\n",
    "\"1. The course should implement an online autocheck process for the practice quizzes. Maybe having the option to submit the code that is being written or gradescope options for the True/False questions. This will allow students enrolled to check their work much quicker and focus in certain areas of their study.\"\n",
    "\n",
    "2. This idea is more valuable than the others brainstormed because: \n",
    "\n",
    "This idea is more valuable than the others brainstormed because it provides another sure fire way for students to get assistance. The autograde features will allow students to know their weak areas on certain areas of the unit. It also relieves TA's of some effort of hoaving to guide students throgh where they went wrong with their coding. Although both my first and second idea provide benefit for the student, I think the first idea has greater potential to assist students on getting highe grades. It is better than the third and fourth ideas because although both of those provide support and knowledge for the course, they require more effort from students which decreases the likelihood of students participating, unless ofcourse it is mandated. \n"
   ]
  },
  {
   "cell_type": "markdown",
   "metadata": {},
   "source": [
    "## Your Analysis\n",
    "\n",
    "Before you begin analysis, a reminder that we do not expect the data to support everyone's ideas and you can complete this exercise for full credit even if the data does not clearly support your suggestion or even completely refutes it. What we are looking for is a logical attempt to explore the data using the techniques you have learned up until now in a way that _either_ supports, refutes, or does not have a clear result and then to reflect on your findings after the analysis.\n",
    "\n",
    "Using the utility functions you created for the previous exercise, you will continue with your analysis in the following part. Before you begin, refer to the rubric on the technical expectations of this section in the exercise write-up.\n",
    "\n",
    "In this section, you are expected to interleave code and markdown cells such that for each step of your analysis you are starting with an English description of what you are planning to do next in a markdown cell, followed by a Python cell that performs that step of the analysis."
   ]
  },
  {
   "cell_type": "markdown",
   "metadata": {},
   "source": [
    "### Part 4. Analysis\n",
    "\n",
    "We begin by changing some settings in the notebook to automatically reload changes to imported files."
   ]
  },
  {
   "cell_type": "code",
   "execution_count": 22,
   "metadata": {},
   "outputs": [],
   "source": [
    "%reload_ext autoreload\n",
    "%autoreload 2"
   ]
  },
  {
   "cell_type": "markdown",
   "metadata": {},
   "source": [
    "We continue by importing the helper functions from `data_utils`."
   ]
  },
  {
   "cell_type": "code",
   "execution_count": 23,
   "metadata": {},
   "outputs": [],
   "source": [
    "from data_utils import read_csv_rows, columnar, head, select, count, filter, helper\n",
    "from tabulate import tabulate"
   ]
  },
  {
   "cell_type": "markdown",
   "metadata": {},
   "source": [
    "Next, ... (you take it from here and add additional code and markdown cells to read in the CSV file and process it as needed)"
   ]
  },
  {
   "cell_type": "code",
   "execution_count": 24,
   "metadata": {},
   "outputs": [],
   "source": [
    "SURVEY_DATA_CSV_FILE_PATH: str = \"../../data/survey.csv\""
   ]
  },
  {
   "cell_type": "markdown",
   "metadata": {},
   "source": [
    "The first step here is reading the csv file using the read_csv_rows function."
   ]
  },
  {
   "cell_type": "code",
   "execution_count": 25,
   "metadata": {},
   "outputs": [
    {
     "name": "stdout",
     "output_type": "stream",
     "text": [
      "Data file ../../data/survey.csv read!\n"
     ]
    }
   ],
   "source": [
    "survey_data_rows: list[dict[str, str]] = read_csv_rows(SURVEY_DATA_CSV_FILE_PATH)\n",
    "print(f\"Data file {SURVEY_DATA_CSV_FILE_PATH} read!\")"
   ]
  },
  {
   "cell_type": "markdown",
   "metadata": {},
   "source": [
    "Next I will utilize the columnar function to get the colmumn names for the data and then create the table."
   ]
  },
  {
   "cell_type": "code",
   "execution_count": 26,
   "metadata": {},
   "outputs": [
    {
     "name": "stdout",
     "output_type": "stream",
     "text": [
      "35 columns in the survey.\n",
      "Column names include: dict_keys(['row', 'year', 'unc_status', 'comp_major', 'primary_major', 'data_science', 'prereqs', 'prior_exp', 'ap_principles', 'ap_a', 'other_comp', 'prior_time', 'languages', 'hours_online_social', 'hours_online_work', 'lesson_time', 'sync_perf', 'all_sync', 'flipped_class', 'no_hybrid', 'own_notes', 'own_examples', 'oh_visits', 'ls_effective', 'lsqs_effective', 'programming_effective', 'qz_effective', 'oh_effective', 'tutoring_effective', 'pace', 'difficulty', 'understanding', 'interesting', 'valuable', 'would_recommend']).\n"
     ]
    }
   ],
   "source": [
    "survey_columns: dict[str, list[str]] = columnar(survey_data_rows)\n",
    "print(f\"{len(survey_columns)} columns in the survey.\")\n",
    "print(f\"Column names include: {survey_columns.keys()}.\")"
   ]
  },
  {
   "cell_type": "markdown",
   "metadata": {},
   "source": [
    "After that, I'm going to utilize the head function to make the rows for my data using the head function. "
   ]
  },
  {
   "cell_type": "code",
   "execution_count": 27,
   "metadata": {},
   "outputs": [],
   "source": [
    "survey_cols_head: dict[str, list[str]] = head(survey_columns, 35)\n",
    "survey_data: dict[str, list[str]] = select(survey_cols_head, ['row', 'year', 'unc_status', 'comp_major', 'primary_major', 'data_science', 'prereqs', 'prior_exp', 'ap_principles', 'ap_a', 'other_comp', 'prior_time', 'languages', 'hours_online_social', 'hours_online_work', 'lesson_time', 'sync_perf', 'all_sync', 'flipped_class', 'no_hybrid', 'own_notes', 'own_examples', 'oh_visits', 'ls_effective', 'lsqs_effective', 'programming_effective', 'qz_effective', 'oh_effective', 'tutoring_effective', 'pace', 'difficulty', 'understanding', 'interesting', 'valuable', 'would_recommend'])"
   ]
  },
  {
   "cell_type": "markdown",
   "metadata": {},
   "source": []
  },
  {
   "cell_type": "markdown",
   "metadata": {},
   "source": [
    "To clean this up a little, I will use my filter function to get rid of some columns that wouldn't be necssary to the analysis. "
   ]
  },
  {
   "cell_type": "code",
   "execution_count": 40,
   "metadata": {},
   "outputs": [],
   "source": [
    "filtered_form: dict[str, list[str]] = filter(survey_cols_head, \"year\" )"
   ]
  },
  {
   "cell_type": "markdown",
   "metadata": {},
   "source": [
    "Next I will choose the code that I want to analyze."
   ]
  },
  {
   "cell_type": "code",
   "execution_count": 30,
   "metadata": {},
   "outputs": [
    {
     "name": "stdout",
     "output_type": "stream",
     "text": [
      "{'lsqs_effective': ['3', '5', '6', '3', '6', '7', '5', '7', '7', '5', '7', '4', '3', '7', '5', '6', '7', '4', '6', '6', '3', '6', '7', '7', '1', '7', '7', '5', '3', '6', '5', '5', '5', '7', '3'], 'programming_effective': ['7', '5', '7', '5', '6', '7', '7', '7', '7', '7', '7', '5', '6', '7', '7', '6', '7', '4', '6', '7', '7', '7', '7', '6', '5', '6', '7', '6', '7', '6', '6', '5', '2', '7', '7']}\n"
     ]
    }
   ],
   "source": [
    "selected_data: dict[str, list[str]] = select(survey_cols_head, [\"lsqs_effective\", \"programming_effective\"])\n",
    "print(selected_data)"
   ]
  },
  {
   "cell_type": "code",
   "execution_count": 31,
   "metadata": {},
   "outputs": [
    {
     "name": "stdout",
     "output_type": "stream",
     "text": [
      "lesson_effectivne_count: {'3': 6, '5': 8, '6': 7, '7': 11, '4': 2, '1': 1}\n",
      "programming_effective_count: {'7': 19, '5': 5, '6': 9, '4': 1, '2': 1}\n"
     ]
    }
   ],
   "source": [
    "lesson_quiz_count: dict[str, int] = count(selected_data[\"lsqs_effective\"])\n",
    "print(f\"lesson_effectivne_count: {lesson_quiz_count}\")\n",
    "programming_effective_count: dict[str,int] = count(selected_data[\"programming_effective\"])\n",
    "print(f\"programming_effective_count: {programming_effective_count}\")\n",
    "\n",
    "\n",
    "\n",
    "\n"
   ]
  },
  {
   "cell_type": "markdown",
   "metadata": {},
   "source": [
    "The data is then ordered using theimported pyplot to compare and reach a conclusion. "
   ]
  },
  {
   "cell_type": "code",
   "execution_count": 36,
   "metadata": {},
   "outputs": [
    {
     "data": {
      "text/plain": [
       "<BarContainer object of 5 artists>"
      ]
     },
     "execution_count": 36,
     "metadata": {},
     "output_type": "execute_result"
    },
    {
     "data": {
      "image/png": "[encoded data removed]",
      "text/plain": [
       "<Figure size 864x360 with 2 Axes>"
      ]
     },
     "metadata": {
      "needs_background": "light"
     },
     "output_type": "display_data"
    }
   ],
   "source": [
    "from matplotlib import pyplot as plt\n",
    "\n",
    "fig, axes = plt.subplots(1, 2, figsize=(12, 5), sharey=True)\n",
    "fig.suptitle(\"Comp 110 Spring 2022 Class Data\")\n",
    "\n",
    "\n",
    "axes[0].set_title(\"Lessson Quiz Effectiveness\")\n",
    "axes[0].bar(lesson_quiz_count.keys(), lesson_quiz_count.values())\n",
    "axes[0].tick_params(axis='x', labelrotation = 45)\n",
    "\n",
    "axes[1].set_title(\"Programming Effectiveness\")\n",
    "axes[1].bar(programming_effective_count.keys(), programming_effective_count.values())"
   ]
  },
  {
   "cell_type": "markdown",
   "metadata": {},
   "source": [
    "The next step will bring the data together to make a more simplified data set using the count funciton."
   ]
  },
  {
   "cell_type": "markdown",
   "metadata": {},
   "source": [
    "## Conclusion\n",
    "\n",
    "In the following markdown cell, write a reflective conclusion given the analysis you performed and identify recommendations.\n",
    "\n",
    "If your analysis of the data supports your idea, state your recommendation for the change and summarize the data analysys results you found which support it. Additionally, describe any extensions or refinements to this idea which might be explored further. Finally, discuss the potential costs, trade-offs, or stakeholders who may be negatively impacted by this proposed change.\n",
    "\n",
    "If your analysis of the data is inconclusive, summarize why your data analysis results were inconclusive in the support of your idea. Additionally, describe what experimental idea implementation or additional data collection might help build more confidence in assessing your idea. Finally, discuss the potential costs, trade-offs, or stakeholders who may be negatively impacted by experimenting with your idea.\n",
    "\n",
    "Finally, if your analysis of the data does not support it, summarize your data analysis results and why it refutes your idea. Discuss the potential costs, trade-offs, or stakeholders who may be negatively impacted by this proposed change. If you disagree with the validity of the findings, describe why your idea still makes sense to implement and what alternative data would better support it. If you agree with the validity of the data analysis, describe what alternate ideas or extensions you would explore instead. "
   ]
  },
  {
   "cell_type": "markdown",
   "metadata": {},
   "source": [
    "### Part 5. Conclusion\n",
    "\n"
   ]
  },
  {
   "cell_type": "markdown",
   "metadata": {},
   "source": [
    "My analysis found that there is a high positive response to both class quizzes and programming practice. Almost 75% of respondents to the survey find that quizzes on gradescope are a great way to practice for the class. 95% find that the programming practices are useful to help them learn the content in the class. It can be assumed thatt if the grading scale for quizzes and programming are combined, it's probable atleast 75% of students will find this new way to check your work useful. The positive of this method is that students will get faster feedback on the assignments that they do. This lets students understand what they need to work or ask questions about at a faster rate. One downside of this plan is that students may not actually do the work and instead use the autograder to assist them. This will allow the \"fake\" learning that students do to occur. Another potential negative is that student's may feel less motivated to do work because it is graded work. One way to refine this idea is to permit multiple types of quizzes to be used. One can be graded automatically using gradescope and the other can be done while practice quizzes are done now. Another way for this idea to reach a new level is if the data from the autograded practice quiz is used to notify students of items that can jog their memory on information that is weaker throughout the class. "
   ]
  }
 ],
 "metadata": {
  "interpreter": {
   "hash": "aee8b7b246df8f9039afb4144a1f6fd8d2ca17a180786b69acc140d282b71a49"
  },
  "kernelspec": {
   "display_name": "Python 3.10.2 64-bit",
   "language": "python",
   "name": "python3"
  },
  "language_info": {
   "codemirror_mode": {
    "name": "ipython",
    "version": 3
   },
   "file_extension": ".py",
   "mimetype": "text/x-python",
   "name": "python",
   "nbconvert_exporter": "python",
   "pygments_lexer": "ipython3",
   "version": "3.10.1"
  },
  "orig_nbformat": 4
 },
 "nbformat": 4,
 "nbformat_minor": 2
}
